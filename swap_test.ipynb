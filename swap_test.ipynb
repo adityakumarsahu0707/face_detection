{
 "cells": [
  {
   "cell_type": "code",
   "execution_count": null,
   "metadata": {},
   "outputs": [],
   "source": [
    "import cv2\n",
    "import numpy as np"
   ]
  },
  {
   "cell_type": "code",
   "execution_count": null,
   "metadata": {},
   "outputs": [],
   "source": [
    "model = cv2.CascadeClassifier('haarcascade_frontalface_default.xml')"
   ]
  },
  {
   "cell_type": "code",
   "execution_count": null,
   "metadata": {},
   "outputs": [],
   "source": [
    "#Person1 - Photo Capture\n",
    "\n",
    "cap1=cv2.VideoCapture(0)\n",
    "while True:\n",
    "    ret, photo1 = cap1.read()\n",
    "    faces1 =  model.detectMultiScale(photo1)\n",
    "    if  len(faces1) == 0:\n",
    "        pass\n",
    "    else:\n",
    "        x1=faces1[0][0]\n",
    "        y1=faces1[0][1]\n",
    "        x2=x1 + faces1[0][2]\n",
    "        y2=y1 + faces1[0][3]\n",
    "\n",
    "        aphoto = cv2.rectangle(photo1, (x1,y1),(x2,y2), [0,255,0], 1 )\n",
    "        cv2.imshow('Person 1 : Press enter to click', aphoto)\n",
    "        if cv2.waitKey(10) == 13:\n",
    "            img1=cv2.imwrite('person10.jpg', photo1)\n",
    "            #crop1\n",
    "            cphoto1=photo1[y1:y2,x1:x2]\n",
    "            crop1=cv2.imwrite('crop10.jpg',cphoto1)\n",
    "            break\n",
    "cv2.destroyAllWindows()\n",
    "cap1.release()"
   ]
  },
  {
   "cell_type": "code",
   "execution_count": null,
   "metadata": {},
   "outputs": [],
   "source": []
  },
  {
   "cell_type": "code",
   "execution_count": null,
   "metadata": {},
   "outputs": [],
   "source": [
    "#Person 2 - Photo Capture \n",
    "\n",
    "cap2=cv2.VideoCapture(0)\n",
    "while True:\n",
    "    ret2, photo2 = cap2.read()\n",
    "    faces2 =  model.detectMultiScale(photo2)\n",
    "    if  len(faces2) == 0:\n",
    "        pass\n",
    "    else:\n",
    "        px1=faces2[0][0]\n",
    "        py1=faces2[0][1]\n",
    "        px2=px1 + faces2[0][2]\n",
    "        py2=py1 + faces2[0][3]\n",
    "\n",
    "        bphoto = cv2.rectangle(photo2, (px1,py1),(px2,py2), [0,255,0], 1 )\n",
    "        cv2.imshow('Person 2 : Press enter to click', bphoto)\n",
    "        cphoto2=photo2[py1:py2,px1:px2]\n",
    "        if (cphoto2.shape == cphoto1.shape) or cv2.waitKey(10) == 13:\n",
    "            img2=cv2.imwrite('person20.jpg', photo2)\n",
    "            break\n",
    "        try:\n",
    "            crop2=cv2.imwrite('crop20.jpg',cphoto2)\n",
    "        except:\n",
    "            pass\n",
    "cv2.destroyAllWindows()\n",
    "cap2.release()"
   ]
  },
  {
   "cell_type": "code",
   "execution_count": null,
   "metadata": {},
   "outputs": [],
   "source": [
    "photo1_temp=photo1"
   ]
  },
  {
   "cell_type": "code",
   "execution_count": null,
   "metadata": {},
   "outputs": [],
   "source": [
    "#Swapping the images\n",
    "\n",
    "photo1[y1:y2,x1:x2],photo2[py1:py2,px1:px2]=photo2[py1:py2,px1:px2],photo1_temp[y1:y2,x1:x2]\n",
    "\n",
    "swap1=cv2.imwrite('img_swap1.jpg',photo1)\n",
    "swap2=cv2.imwrite('img_swap2.jpg',photo2)\n",
    "\n"
   ]
  },
  {
   "cell_type": "code",
   "execution_count": null,
   "metadata": {},
   "outputs": [],
   "source": [
    "#False codes ---- Don't focus here\n",
    "\n",
    "#photo2[py1:py2,px1:px2]=photo1_temp[y1:y2,x1:x2]\n",
    "#swap2=cv2.imwrite('img_swap2.jpg',photo2)\n",
    "\n",
    "#cv2.imshow('Swap Photo: Person1', photo1)\n",
    "#cv2.waitKey()\n",
    "#cv2.destroyAllWindows()\n",
    "\n",
    "#cv2.imshow('Swap Photo: Person2', photo2)\n",
    "#cv2.waitKey()\n",
    "#cv2.destroyAllWindows()"
   ]
  }
 ],
 "metadata": {
  "kernelspec": {
   "display_name": "Python 3",
   "language": "python",
   "name": "python3"
  },
  "language_info": {
   "codemirror_mode": {
    "name": "ipython",
    "version": 3
   },
   "file_extension": ".py",
   "mimetype": "text/x-python",
   "name": "python",
   "nbconvert_exporter": "python",
   "pygments_lexer": "ipython3",
   "version": "3.8.5"
  }
 },
 "nbformat": 4,
 "nbformat_minor": 4
}
