{
 "cells": [
  {
   "cell_type": "code",
   "execution_count": 26,
   "metadata": {},
   "outputs": [],
   "source": [
    "import cv2\n",
    "import numpy as np"
   ]
  },
  {
   "cell_type": "code",
   "execution_count": 27,
   "metadata": {},
   "outputs": [],
   "source": [
    "model = cv2.CascadeClassifier('haarcascade_frontalface_default.xml')"
   ]
  },
  {
   "cell_type": "code",
   "execution_count": 28,
   "metadata": {},
   "outputs": [],
   "source": [
    "#Person1\n",
    "cap1=cv2.VideoCapture(0)\n",
    "while True:\n",
    "    ret, photo1 = cap1.read()\n",
    "    faces1 =  model.detectMultiScale(photo1)\n",
    "    if  len(faces1) == 0:\n",
    "        pass\n",
    "    else:\n",
    "        x1=faces1[0][0]\n",
    "        y1=faces1[0][1]\n",
    "        x2=x1 + faces1[0][2]\n",
    "        y2=y1 + faces1[0][3]\n",
    "\n",
    "        aphoto = cv2.rectangle(photo1, (x1,y1),(x2,y2), [0,255,0], 1 )\n",
    "        cv2.imshow('Person 1 : Press enter to click', aphoto)\n",
    "        if cv2.waitKey(10) == 13:\n",
    "            img1=cv2.imwrite('person1.jpg', photo1)\n",
    "            img1_c=cv2.imwrite('person1_copy.jpg', photo1)\n",
    "            break\n",
    "cv2.destroyAllWindows()\n",
    "cap1.release()"
   ]
  },
  {
   "cell_type": "code",
   "execution_count": 29,
   "metadata": {},
   "outputs": [],
   "source": [
    "#Person 2\n",
    "cap2=cv2.VideoCapture(0)\n",
    "while True:\n",
    "    ret2, photo2 = cap2.read()\n",
    "    faces2 =  model.detectMultiScale(photo2)\n",
    "    if  len(faces2) == 0:\n",
    "        pass\n",
    "    else:\n",
    "        px1=faces2[0][0]\n",
    "        py1=faces2[0][1]\n",
    "        px2=x1 + faces2[0][2]\n",
    "        py2=y1 + faces2[0][3]\n",
    "\n",
    "        bphoto = cv2.rectangle(photo2, (px1,py1),(px2,py2), [0,255,0], 1 )\n",
    "        cv2.imshow('Person 2 : Press enter to click', bphoto)\n",
    "        if cv2.waitKey(10) == 13:\n",
    "            img2=cv2.imwrite('person2.jpg', photo2)\n",
    "            img2_c=cv2.imwrite('person2_copy.jpg', photo2)\n",
    "            break\n",
    "cv2.destroyAllWindows()\n",
    "cap2.release()"
   ]
  },
  {
   "cell_type": "code",
   "execution_count": null,
   "metadata": {},
   "outputs": [],
   "source": []
  },
  {
   "cell_type": "code",
   "execution_count": 8,
   "metadata": {},
   "outputs": [],
   "source": []
  },
  {
   "cell_type": "code",
   "execution_count": 47,
   "metadata": {},
   "outputs": [],
   "source": [
    "#Face Swap\n",
    "#def swap():\n",
    "#Crop face from first photo\n",
    "cphoto1=photo1[y1+5:y2-5,x1+5:x2-5]\n",
    "cv2.imshow('p1',cphoto1)\n",
    "if cv2.waitKey() == 13:\n",
    "    crop1=cv2.imwrite('crop1.jpg',cphoto1)\n",
    "cv2.destroyAllWindows()\n",
    "#Crop face from second photo\n",
    "cphoto2=photo2[py1+5:py2-5,px1+5:px2-5]\n",
    "cv2.imshow('p2',cphoto2)\n",
    "if cv2.waitKey() == 13:\n",
    "    crop2=cv2.imwrite('crop2.jpg',cphoto2)\n",
    "cv2.destroyAllWindows()\n",
    "\n",
    "#Swapping faces\n"
   ]
  },
  {
   "cell_type": "code",
   "execution_count": 40,
   "metadata": {},
   "outputs": [],
   "source": [
    "swap()"
   ]
  },
  {
   "cell_type": "code",
   "execution_count": 51,
   "metadata": {},
   "outputs": [
    {
     "data": {
      "text/plain": [
       "(230, 232, 3)"
      ]
     },
     "execution_count": 51,
     "metadata": {},
     "output_type": "execute_result"
    }
   ],
   "source": [
    "#photo1.shape\n",
    "#photo2.shape\n",
    "#cphoto1.shape\n",
    "#cphoto2.shape"
   ]
  },
  {
   "cell_type": "code",
   "execution_count": 66,
   "metadata": {},
   "outputs": [
    {
     "ename": "ValueError",
     "evalue": "could not broadcast input array from shape (240,242,3) into shape (246,246,3)",
     "output_type": "error",
     "traceback": [
      "\u001b[0;31m---------------------------------------------------------------------------\u001b[0m",
      "\u001b[0;31mValueError\u001b[0m                                Traceback (most recent call last)",
      "\u001b[0;32m<ipython-input-66-9648c71519bd>\u001b[0m in \u001b[0;36m<module>\u001b[0;34m\u001b[0m\n\u001b[0;32m----> 1\u001b[0;31m \u001b[0mphoto1\u001b[0m\u001b[0;34m[\u001b[0m\u001b[0my1\u001b[0m\u001b[0;34m:\u001b[0m\u001b[0my2\u001b[0m\u001b[0;34m,\u001b[0m\u001b[0mx1\u001b[0m\u001b[0;34m:\u001b[0m\u001b[0mx2\u001b[0m\u001b[0;34m]\u001b[0m\u001b[0;34m=\u001b[0m\u001b[0mphoto2\u001b[0m\u001b[0;34m[\u001b[0m\u001b[0mpy1\u001b[0m\u001b[0;34m:\u001b[0m\u001b[0mpy2\u001b[0m\u001b[0;34m,\u001b[0m\u001b[0mpx1\u001b[0m\u001b[0;34m:\u001b[0m\u001b[0mpx2\u001b[0m\u001b[0;34m]\u001b[0m\u001b[0;34m\u001b[0m\u001b[0;34m\u001b[0m\u001b[0m\n\u001b[0m",
      "\u001b[0;31mValueError\u001b[0m: could not broadcast input array from shape (240,242,3) into shape (246,246,3)"
     ]
    }
   ],
   "source": [
    "photo1[y1:y2,x1:x2]=photo2[py1:py2,px1:px2]"
   ]
  },
  {
   "cell_type": "code",
   "execution_count": null,
   "metadata": {},
   "outputs": [],
   "source": []
  },
  {
   "cell_type": "code",
   "execution_count": 69,
   "metadata": {},
   "outputs": [
    {
     "data": {
      "text/plain": [
       "(236, 236, 3)"
      ]
     },
     "execution_count": 69,
     "metadata": {},
     "output_type": "execute_result"
    }
   ],
   "source": [
    "cphoto1.shape"
   ]
  },
  {
   "cell_type": "code",
   "execution_count": 70,
   "metadata": {},
   "outputs": [
    {
     "data": {
      "text/plain": [
       "(230, 232, 3)"
      ]
     },
     "execution_count": 70,
     "metadata": {},
     "output_type": "execute_result"
    }
   ],
   "source": [
    "cphoto2.shape"
   ]
  },
  {
   "cell_type": "code",
   "execution_count": 67,
   "metadata": {},
   "outputs": [],
   "source": [
    "#cphoto1.reshape(cphoto2.shape[0],cphoto2.shape[1],3)"
   ]
  },
  {
   "cell_type": "code",
   "execution_count": 72,
   "metadata": {},
   "outputs": [
    {
     "data": {
      "text/plain": [
       "True"
      ]
     },
     "execution_count": 72,
     "metadata": {},
     "output_type": "execute_result"
    }
   ],
   "source": [
    "cphoto1.shape == cphoto2.shape"
   ]
  },
  {
   "cell_type": "code",
   "execution_count": 68,
   "metadata": {},
   "outputs": [],
   "source": [
    "#cphoto2.reshape(cphoto1.shape[0],cphoto1.shape[1],3)"
   ]
  },
  {
   "cell_type": "code",
   "execution_count": 14,
   "metadata": {},
   "outputs": [],
   "source": [
    "cap1.release()"
   ]
  },
  {
   "cell_type": "code",
   "execution_count": 15,
   "metadata": {},
   "outputs": [],
   "source": [
    "cap2.release()"
   ]
  },
  {
   "cell_type": "code",
   "execution_count": null,
   "metadata": {},
   "outputs": [],
   "source": []
  }
 ],
 "metadata": {
  "kernelspec": {
   "display_name": "Python 3",
   "language": "python",
   "name": "python3"
  },
  "language_info": {
   "codemirror_mode": {
    "name": "ipython",
    "version": 3
   },
   "file_extension": ".py",
   "mimetype": "text/x-python",
   "name": "python",
   "nbconvert_exporter": "python",
   "pygments_lexer": "ipython3",
   "version": "3.8.5"
  }
 },
 "nbformat": 4,
 "nbformat_minor": 4
}
